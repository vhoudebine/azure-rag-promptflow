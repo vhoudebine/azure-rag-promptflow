{
 "cells": [
  {
   "cell_type": "code",
   "execution_count": null,
   "metadata": {},
   "outputs": [],
   "source": [
    "import os\n",
    "from dotenv import load_dotenv\n",
    "from azure.search.documents.indexes import SearchIndexClient\n",
    "from azure.storage.blob import BlobServiceClient\n",
    "from azure.identity import DefaultAzureCredential\n",
    "from azure.core.credentials import AzureKeyCredential\n",
    "from openai import AzureOpenAI\n",
    "from lib.common import create_search_index\n",
    "from lib import utils\n",
    "\n",
    "\n",
    "# Specify the path to the azure.env file\n",
    "env_path = '.env'\n",
    "\n",
    "# Load the environment variables from the file\n",
    "load_dotenv(env_path)"
   ]
  },
  {
   "cell_type": "markdown",
   "metadata": {},
   "source": [
    "### 1. Set up Azure clients and create AI Search index"
   ]
  },
  {
   "cell_type": "code",
   "execution_count": null,
   "metadata": {},
   "outputs": [],
   "source": [
    "\n",
    "search_endpoint = os.getenv(\"AZURE_SEARCH_ENDPOINT\")\n",
    "search_credential = AzureKeyCredential(os.environ[\"AZURE_SEARCH_ADMIN_KEY\"])\n",
    "index_name = \"ai-search-10k-reports\"\n",
    "search_index_client = SearchIndexClient(endpoint=search_endpoint, \n",
    "                                        credential=search_credential)\n",
    "\n",
    "\n",
    "rts_searchindex = create_search_index(\n",
    "    index_name,\n",
    "    os.getenv(\"AZURE_OPENAI_ENDPOINT\"),\n",
    "    \"text-embedding-ada-002\",\n",
    "    os.getenv(\"AZURE_OPENAI_API_KEY\")\n",
    ")\n",
    "\n",
    "try:\n",
    "    search_index_client.create_or_update_index(rts_searchindex)\n",
    "    print(\"Created recursive text splitter index\")\n",
    "\n",
    "except Exception as e:\n",
    "    print(\"Error creating recursive text splitter index\")\n",
    "    print(e)\n"
   ]
  },
  {
   "cell_type": "code",
   "execution_count": null,
   "metadata": {},
   "outputs": [],
   "source": [
    "# Create a DefaultAzureCredential object\n",
    "credential = DefaultAzureCredential()\n",
    "\n",
    "# Create a BlobServiceClient object with DefaultAzureCredential\n",
    "blob_service_client = BlobServiceClient(account_url=os.getenv(\"AZURE_STORAGE_ACCOUNT_URL\"), \n",
    "                                        credential=credential)\n",
    "\n",
    "# Specify the name of the container\n",
    "container_name = \"gbb-hackathon\"\n",
    "\n",
    "# Get a reference to the container\n",
    "container_client = blob_service_client.get_container_client(container_name)\n",
    "\n",
    "# List all the blobs in the container\n",
    "blobs = container_client.list_blobs()\n"
   ]
  },
  {
   "cell_type": "code",
   "execution_count": null,
   "metadata": {},
   "outputs": [],
   "source": [
    "# Get OpenAI client \n",
    "openai_client = AzureOpenAI(\n",
    "  api_key = os.getenv(\"AZURE_OPENAI_API_KEY\"),  \n",
    "  api_version = \"2023-05-15\",\n",
    "  azure_endpoint = os.getenv(\"AZURE_OPENAI_ENDPOINT\"))"
   ]
  },
  {
   "cell_type": "markdown",
   "metadata": {},
   "source": [
    "#### 2. Process documents"
   ]
  },
  {
   "cell_type": "code",
   "execution_count": null,
   "metadata": {},
   "outputs": [],
   "source": [
    "for blob in blobs:\n",
    "    if blob.name.lower().endswith('.pdf') and not os.path.exists(f\"./tmp/{blob.name}\"):\n",
    "        company = blob.name.split(\"/\")[-1].split(\"_\")[0].upper()\n",
    "        print(f\"Processing {blob.name} for company: {company}\")\n",
    "        \n",
    "        local_path = utils.download_blob_content(blob_service_client, container_name, blob.name, \"./tmp\")\n",
    "        print(f\"Parsing PDF at {local_path}...\")\n",
    "        \n",
    "        pages = utils.parse_pdf(local_path)\n",
    "        if len(pages) == 0:\n",
    "            print(f\"Error parsing {local_path}. Skipping...\")\n",
    "            continue\n",
    "        else:\n",
    "          print(f\"Splitting text for {company}...\")\n",
    "          chunks = utils.split_text(pages)\n",
    "          \n",
    "          print(f\"Generating embeddings for {company}, nb chunks: {len(chunks)}...\")\n",
    "          embeddings = utils.generate_chunk_embeddings(openai_client, chunks)\n",
    "          \n",
    "          print(f\"Uploading documents for {local_path}...\")\n",
    "          utils.upload_embeddings_to_search(search_index_client, index_name, embeddings, chunks, company, blob.name)\n",
    "    else:\n",
    "        print(f\"skipping {blob.name} as it is not a pdf or it has already been processed.\")"
   ]
  },
  {
   "cell_type": "markdown",
   "metadata": {},
   "source": [
    "#### 3. Clean up"
   ]
  },
  {
   "cell_type": "code",
   "execution_count": null,
   "metadata": {},
   "outputs": [],
   "source": [
    "import shutil\n",
    "\n",
    "# Specify the path to the tmp folder\n",
    "folder_path = \"./tmp\"\n",
    "\n",
    "# Delete the entire folder\n",
    "shutil.rmtree(folder_path)\n",
    "\n",
    "print(\"The tmp folder has been deleted.\")\n"
   ]
  },
  {
   "cell_type": "code",
   "execution_count": null,
   "metadata": {},
   "outputs": [],
   "source": []
  }
 ],
 "metadata": {
  "kernelspec": {
   "display_name": "openai",
   "language": "python",
   "name": "python3"
  },
  "language_info": {
   "codemirror_mode": {
    "name": "ipython",
    "version": 3
   },
   "file_extension": ".py",
   "mimetype": "text/x-python",
   "name": "python",
   "nbconvert_exporter": "python",
   "pygments_lexer": "ipython3",
   "version": "3.11.8"
  }
 },
 "nbformat": 4,
 "nbformat_minor": 2
}
